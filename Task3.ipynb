{
 "cells": [
  {
   "cell_type": "markdown",
   "id": "6425b2fe",
   "metadata": {},
   "source": [
    "## LGMVIP-DataScience\n"
   ]
  },
  {
   "cell_type": "markdown",
   "id": "1abcbc1f",
   "metadata": {},
   "source": [
    "## Author: YUDHEKSHA GK"
   ]
  },
  {
   "cell_type": "markdown",
   "id": "0030dd40",
   "metadata": {},
   "source": [
    "## Develop A Neural Network That Can Read Handwriting"
   ]
  },
  {
   "cell_type": "code",
   "execution_count": 1,
   "id": "b0fa6197",
   "metadata": {},
   "outputs": [],
   "source": [
    "import tensorflow as tf\n",
    "from tensorflow import keras\n",
    "from tensorflow.keras import Sequential\n",
    "from tensorflow.keras.utils import plot_model\n",
    "from tensorflow.keras.layers import *\n",
    "import matplotlib.pyplot as plt\n",
    "import numpy as np\n",
    "import seaborn as sns\n",
    "from keras.datasets import mnist\n",
    "import random\n",
    "from numpy import argmax"
   ]
  },
  {
   "cell_type": "code",
   "execution_count": 2,
   "id": "3f53646c",
   "metadata": {},
   "outputs": [],
   "source": [
    "(x_train,y_train), (x_test,y_test) = mnist.load_data()"
   ]
  },
  {
   "cell_type": "code",
   "execution_count": 3,
   "id": "fff7b6ae",
   "metadata": {},
   "outputs": [
    {
     "data": {
      "text/plain": [
       "((60000, 28, 28), (60000,), (10000, 28, 28), (10000,))"
      ]
     },
     "execution_count": 3,
     "metadata": {},
     "output_type": "execute_result"
    }
   ],
   "source": [
    "x_train.shape, y_train.shape, x_test.shape, y_test.shape"
   ]
  },
  {
   "cell_type": "markdown",
   "id": "411172ed",
   "metadata": {},
   "source": [
    "### this means that there are 60,000 images as input data with shape 28 x 28 each. "
   ]
  },
  {
   "cell_type": "code",
   "execution_count": 4,
   "id": "68e83801",
   "metadata": {},
   "outputs": [
    {
     "data": {
      "image/png": "[encoded data removed]",
      "text/plain": [
       "<Figure size 432x288 with 5 Axes>"
      ]
     },
     "metadata": {
      "needs_background": "light"
     },
     "output_type": "display_data"
    }
   ],
   "source": [
    "# sample images\n",
    "for i in range (1,6):\n",
    "    plt.subplot(1,5,i)\n",
    "    plt.imshow(x_train[random.randint(0,5000)])"
   ]
  },
  {
   "cell_type": "code",
   "execution_count": 5,
   "id": "bc0c02d1",
   "metadata": {},
   "outputs": [],
   "source": [
    "x_train = x_train.reshape( (x_train.shape[0] , x_train.shape[1] , x_train.shape[2] , 1) )\n",
    "x_test = x_test.reshape( (x_test.shape[0] , x_test.shape[1] , x_test.shape[2] , 1) )\n",
    "x_train =  x_train.astype('float32') / 255.0\n",
    "x_test =  x_test.astype('float32') / 255.0"
   ]
  },
  {
   "cell_type": "code",
   "execution_count": 6,
   "id": "defe5a8f",
   "metadata": {},
   "outputs": [
    {
     "data": {
      "image/png": "[encoded data removed]",
      "text/plain": [
       "<Figure size 432x288 with 5 Axes>"
      ]
     },
     "metadata": {
      "needs_background": "light"
     },
     "output_type": "display_data"
    }
   ],
   "source": [
    "for i in range (1,6):\n",
    "    plt.subplot(1,5,i)\n",
    "    plt.imshow(x_train[random.randint(0,5000)] , cmap =\"gray\")"
   ]
  },
  {
   "cell_type": "code",
   "execution_count": 7,
   "id": "f05d8338",
   "metadata": {},
   "outputs": [
    {
     "name": "stdout",
     "output_type": "stream",
     "text": [
      "Model: \"sequential\"\n",
      "_________________________________________________________________\n",
      " Layer (type)                Output Shape              Param #   \n",
      "=================================================================\n",
      " conv2d (Conv2D)             (None, 26, 26, 32)        320       \n",
      "                                                                 \n",
      " max_pooling2d (MaxPooling2D  (None, 13, 13, 32)       0         \n",
      " )                                                               \n",
      "                                                                 \n",
      " conv2d_1 (Conv2D)           (None, 11, 11, 48)        13872     \n",
      "                                                                 \n",
      " max_pooling2d_1 (MaxPooling  (None, 5, 5, 48)         0         \n",
      " 2D)                                                             \n",
      "                                                                 \n",
      " dropout (Dropout)           (None, 5, 5, 48)          0         \n",
      "                                                                 \n",
      " flatten (Flatten)           (None, 1200)              0         \n",
      "                                                                 \n",
      " dense (Dense)               (None, 500)               600500    \n",
      "                                                                 \n",
      " dense_1 (Dense)             (None, 10)                5010      \n",
      "                                                                 \n",
      "=================================================================\n",
      "Total params: 619,702\n",
      "Trainable params: 619,702\n",
      "Non-trainable params: 0\n",
      "_________________________________________________________________\n",
      "('You must install pydot (`pip install pydot`) and install graphviz (see instructions at https://graphviz.gitlab.io/download/) ', 'for plot_model/model_to_dot to work.')\n"
     ]
    }
   ],
   "source": [
    "model= Sequential()\n",
    "model.add(Conv2D(32, (3,3) , activation='relu' , input_shape=(28,28,1)))\n",
    "model.add(MaxPool2D((2,2)))\n",
    "model.add(Conv2D(48, (3,3) , activation='relu' ))\n",
    "model.add(MaxPool2D((2,2)))\n",
    "model.add(Dropout(0.5))\n",
    "model.add(Flatten())\n",
    "model.add(Dense(500,activation='relu' ))\n",
    "model.add(Dense(10,activation='softmax' ))\n",
    "model.summary()\n",
    "plot_model(model, 'mymodel.jpg', show_shapes=True)"
   ]
  },
  {
   "cell_type": "code",
   "execution_count": 8,
   "id": "8f897d6e",
   "metadata": {},
   "outputs": [
    {
     "name": "stdout",
     "output_type": "stream",
     "text": [
      "Epoch 1/5\n",
      "422/422 - 12s - loss: 0.2538 - accuracy: 0.9228 - val_loss: 0.0552 - val_accuracy: 0.9837 - 12s/epoch - 28ms/step\n",
      "Epoch 2/5\n",
      "422/422 - 12s - loss: 0.0802 - accuracy: 0.9751 - val_loss: 0.0399 - val_accuracy: 0.9882 - 12s/epoch - 29ms/step\n",
      "Epoch 3/5\n",
      "422/422 - 12s - loss: 0.0616 - accuracy: 0.9807 - val_loss: 0.0358 - val_accuracy: 0.9895 - 12s/epoch - 30ms/step\n",
      "Epoch 4/5\n",
      "422/422 - 14s - loss: 0.0480 - accuracy: 0.9851 - val_loss: 0.0410 - val_accuracy: 0.9887 - 14s/epoch - 34ms/step\n",
      "Epoch 5/5\n",
      "422/422 - 14s - loss: 0.0409 - accuracy: 0.9870 - val_loss: 0.0335 - val_accuracy: 0.9897 - 14s/epoch - 32ms/step\n"
     ]
    },
    {
     "data": {
      "text/plain": [
       "<keras.callbacks.History at 0x2a13becdb20>"
      ]
     },
     "execution_count": 8,
     "metadata": {},
     "output_type": "execute_result"
    }
   ],
   "source": [
    "model.compile(optimizer='adam',loss='sparse_categorical_crossentropy',metrics=['accuracy'])\n",
    "model.fit(x_train, y_train, epochs=5, verbose =2 , batch_size=128, validation_split=0.1)"
   ]
  },
  {
   "cell_type": "code",
   "execution_count": 9,
   "id": "0eadcd52",
   "metadata": {},
   "outputs": [
    {
     "name": "stdout",
     "output_type": "stream",
     "text": [
      "accuracy =  98.84999990463257 %\n"
     ]
    }
   ],
   "source": [
    "loss,acc = model.evaluate(x_test,y_test,verbose=0)\n",
    "print(\"accuracy = \",acc*100, \"%\")"
   ]
  },
  {
   "cell_type": "code",
   "execution_count": 10,
   "id": "72022f60",
   "metadata": {},
   "outputs": [
    {
     "data": {
      "image/png": "[encoded data removed]",
      "text/plain": [
       "<Figure size 432x288 with 1 Axes>"
      ]
     },
     "metadata": {
      "needs_background": "light"
     },
     "output_type": "display_data"
    }
   ],
   "source": [
    "n = random.randint(0,5000)\n",
    "test_img = x_train[n]\n",
    "plt.imshow(test_img)\n",
    "plt.show()"
   ]
  },
  {
   "cell_type": "code",
   "execution_count": 11,
   "id": "69d2161e",
   "metadata": {},
   "outputs": [
    {
     "data": {
      "text/plain": [
       "(28, 28, 1)"
      ]
     },
     "execution_count": 11,
     "metadata": {},
     "output_type": "execute_result"
    }
   ],
   "source": [
    "test_img.shape"
   ]
  },
  {
   "cell_type": "code",
   "execution_count": 12,
   "id": "ce452e94",
   "metadata": {},
   "outputs": [
    {
     "name": "stdout",
     "output_type": "stream",
     "text": [
      "prediction = 7 \n"
     ]
    }
   ],
   "source": [
    "test_img = test_img.reshape(1,28,28,1 ) \n",
    "#test_img=  test_img.astype('float32') / 255.0\n",
    "\n",
    "p = model.predict([test_img])\n",
    "print(\"prediction = {} \".format(argmax(p)))"
   ]
  },
  {
   "cell_type": "markdown",
   "id": "7e09a1b9",
   "metadata": {},
   "source": [
    "### thus , our model is predicting handwritten numbers with an accuracy of 98.84 %"
   ]
  },
  {
   "cell_type": "code",
   "execution_count": null,
   "id": "ea061e51",
   "metadata": {},
   "outputs": [],
   "source": []
  }
 ],
 "metadata": {
  "kernelspec": {
   "display_name": "Python 3",
   "language": "python",
   "name": "python3"
  },
  "language_info": {
   "codemirror_mode": {
    "name": "ipython",
    "version": 3
   },
   "file_extension": ".py",
   "mimetype": "text/x-python",
   "name": "python",
   "nbconvert_exporter": "python",
   "pygments_lexer": "ipython3",
   "version": "3.8.8"
  }
 },
 "nbformat": 4,
 "nbformat_minor": 5
}
